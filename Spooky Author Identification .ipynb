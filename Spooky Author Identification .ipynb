{
 "cells": [
  {
   "cell_type": "markdown",
   "id": "544d40ff",
   "metadata": {},
   "source": [
    "## Spooky Author Identification"
   ]
  },
  {
   "cell_type": "markdown",
   "id": "71086c0c",
   "metadata": {},
   "source": [
    "The competition dataset contains text from works of fiction written by spooky authors of the public domain: Edgar Allan Poe, HP Lovecraft and Mary Shelley. The data was prepared by chunking larger texts into sentences using CoreNLP's MaxEnt sentence tokenizer, so you may notice the odd non-sentence here and there. Your objective is to accurately identify the author of the sentences in the test set."
   ]
  },
  {
   "cell_type": "markdown",
   "id": "38f57f70",
   "metadata": {},
   "source": [
    "#### Data fields\n",
    "* id - a unique identifier for each sentence\n",
    "* text - some text written by one of the authors\n",
    "* author - the author of the sentence (EAP: Edgar Allan Poe, HPL: HP Lovecraft; MWS: Mary Wollstonecraft Shelley)"
   ]
  },
  {
   "cell_type": "markdown",
   "id": "3239d8c2",
   "metadata": {},
   "source": [
    "You can also find the dataset <a href = \"https://www.kaggle.com/competitions/spooky-author-identification/overview\"> here</a>"
   ]
  },
  {
   "cell_type": "markdown",
   "id": "7b034367",
   "metadata": {},
   "source": [
    "***"
   ]
  },
  {
   "cell_type": "markdown",
   "id": "12c5b3b5",
   "metadata": {},
   "source": [
    "### Import necessary libraries"
   ]
  },
  {
   "cell_type": "code",
   "execution_count": 2,
   "id": "c407690c",
   "metadata": {},
   "outputs": [],
   "source": [
    "import numpy as np\n",
    "import pandas as pd\n",
    "import matplotlib.pyplot as plt\n",
    "import seaborn as sns\n",
    "import re\n",
    "from nltk.stem import WordNetLemmatizer\n",
    "from nltk.corpus import stopwords\n",
    "from sklearn.preprocessing import LabelBinarizer\n",
    "from sklearn.model_selection import train_test_split\n",
    "from keras.preprocessing.text import Tokenizer\n",
    "from tensorflow.keras.preprocessing.sequence import pad_sequences\n",
    "from keras import Sequential , layers\n",
    "from sklearn.metrics import confusion_matrix , classification_report ,accuracy_score"
   ]
  },
  {
   "cell_type": "markdown",
   "id": "5dd4756d",
   "metadata": {},
   "source": [
    "### Read 'spooky.csv' dataset"
   ]
  },
  {
   "cell_type": "code",
   "execution_count": 3,
   "id": "34d171a9",
   "metadata": {},
   "outputs": [],
   "source": [
    "df=pd.read_csv('spooky.csv')"
   ]
  },
  {
   "cell_type": "code",
   "execution_count": 4,
   "id": "b39cc8c5",
   "metadata": {},
   "outputs": [
    {
     "data": {
      "text/html": [
       "<div>\n",
       "<style scoped>\n",
       "    .dataframe tbody tr th:only-of-type {\n",
       "        vertical-align: middle;\n",
       "    }\n",
       "\n",
       "    .dataframe tbody tr th {\n",
       "        vertical-align: top;\n",
       "    }\n",
       "\n",
       "    .dataframe thead th {\n",
       "        text-align: right;\n",
       "    }\n",
       "</style>\n",
       "<table border=\"1\" class=\"dataframe\">\n",
       "  <thead>\n",
       "    <tr style=\"text-align: right;\">\n",
       "      <th></th>\n",
       "      <th>id</th>\n",
       "      <th>text</th>\n",
       "      <th>author</th>\n",
       "    </tr>\n",
       "  </thead>\n",
       "  <tbody>\n",
       "    <tr>\n",
       "      <th>0</th>\n",
       "      <td>id26305</td>\n",
       "      <td>This process, however, afforded me no means of...</td>\n",
       "      <td>EAP</td>\n",
       "    </tr>\n",
       "    <tr>\n",
       "      <th>1</th>\n",
       "      <td>id17569</td>\n",
       "      <td>It never once occurred to me that the fumbling...</td>\n",
       "      <td>HPL</td>\n",
       "    </tr>\n",
       "    <tr>\n",
       "      <th>2</th>\n",
       "      <td>id11008</td>\n",
       "      <td>In his left hand was a gold snuff box, from wh...</td>\n",
       "      <td>EAP</td>\n",
       "    </tr>\n",
       "    <tr>\n",
       "      <th>3</th>\n",
       "      <td>id27763</td>\n",
       "      <td>How lovely is spring As we looked from Windsor...</td>\n",
       "      <td>MWS</td>\n",
       "    </tr>\n",
       "    <tr>\n",
       "      <th>4</th>\n",
       "      <td>id12958</td>\n",
       "      <td>Finding nothing else, not even gold, the Super...</td>\n",
       "      <td>HPL</td>\n",
       "    </tr>\n",
       "  </tbody>\n",
       "</table>\n",
       "</div>"
      ],
      "text/plain": [
       "        id                                               text author\n",
       "0  id26305  This process, however, afforded me no means of...    EAP\n",
       "1  id17569  It never once occurred to me that the fumbling...    HPL\n",
       "2  id11008  In his left hand was a gold snuff box, from wh...    EAP\n",
       "3  id27763  How lovely is spring As we looked from Windsor...    MWS\n",
       "4  id12958  Finding nothing else, not even gold, the Super...    HPL"
      ]
     },
     "execution_count": 4,
     "metadata": {},
     "output_type": "execute_result"
    }
   ],
   "source": [
    "df.head()"
   ]
  },
  {
   "cell_type": "markdown",
   "id": "0e077888",
   "metadata": {},
   "source": [
    "### Drop 'id' column"
   ]
  },
  {
   "cell_type": "code",
   "execution_count": 6,
   "id": "446135ed",
   "metadata": {},
   "outputs": [],
   "source": [
    "df.drop(columns='id',inplace=True)"
   ]
  },
  {
   "cell_type": "code",
   "execution_count": 8,
   "id": "1efcddd5",
   "metadata": {},
   "outputs": [
    {
     "data": {
      "text/html": [
       "<div>\n",
       "<style scoped>\n",
       "    .dataframe tbody tr th:only-of-type {\n",
       "        vertical-align: middle;\n",
       "    }\n",
       "\n",
       "    .dataframe tbody tr th {\n",
       "        vertical-align: top;\n",
       "    }\n",
       "\n",
       "    .dataframe thead th {\n",
       "        text-align: right;\n",
       "    }\n",
       "</style>\n",
       "<table border=\"1\" class=\"dataframe\">\n",
       "  <thead>\n",
       "    <tr style=\"text-align: right;\">\n",
       "      <th></th>\n",
       "      <th>text</th>\n",
       "      <th>author</th>\n",
       "    </tr>\n",
       "  </thead>\n",
       "  <tbody>\n",
       "    <tr>\n",
       "      <th>0</th>\n",
       "      <td>This process, however, afforded me no means of...</td>\n",
       "      <td>EAP</td>\n",
       "    </tr>\n",
       "    <tr>\n",
       "      <th>1</th>\n",
       "      <td>It never once occurred to me that the fumbling...</td>\n",
       "      <td>HPL</td>\n",
       "    </tr>\n",
       "    <tr>\n",
       "      <th>2</th>\n",
       "      <td>In his left hand was a gold snuff box, from wh...</td>\n",
       "      <td>EAP</td>\n",
       "    </tr>\n",
       "    <tr>\n",
       "      <th>3</th>\n",
       "      <td>How lovely is spring As we looked from Windsor...</td>\n",
       "      <td>MWS</td>\n",
       "    </tr>\n",
       "    <tr>\n",
       "      <th>4</th>\n",
       "      <td>Finding nothing else, not even gold, the Super...</td>\n",
       "      <td>HPL</td>\n",
       "    </tr>\n",
       "  </tbody>\n",
       "</table>\n",
       "</div>"
      ],
      "text/plain": [
       "                                                text author\n",
       "0  This process, however, afforded me no means of...    EAP\n",
       "1  It never once occurred to me that the fumbling...    HPL\n",
       "2  In his left hand was a gold snuff box, from wh...    EAP\n",
       "3  How lovely is spring As we looked from Windsor...    MWS\n",
       "4  Finding nothing else, not even gold, the Super...    HPL"
      ]
     },
     "execution_count": 8,
     "metadata": {},
     "output_type": "execute_result"
    }
   ],
   "source": [
    "df.head()"
   ]
  },
  {
   "cell_type": "markdown",
   "id": "20b4579d",
   "metadata": {},
   "source": [
    "### Check for missing values"
   ]
  },
  {
   "cell_type": "code",
   "execution_count": 9,
   "id": "f0deb4e4",
   "metadata": {},
   "outputs": [
    {
     "data": {
      "text/plain": [
       "text      0\n",
       "author    0\n",
       "dtype: int64"
      ]
     },
     "execution_count": 9,
     "metadata": {},
     "output_type": "execute_result"
    }
   ],
   "source": [
    "df.isna().sum()"
   ]
  },
  {
   "cell_type": "markdown",
   "id": "004c7972",
   "metadata": {},
   "source": [
    "### Check for duplicates"
   ]
  },
  {
   "cell_type": "code",
   "execution_count": 13,
   "id": "52e14080",
   "metadata": {
    "scrolled": true
   },
   "outputs": [
    {
     "data": {
      "text/plain": [
       "0"
      ]
     },
     "execution_count": 13,
     "metadata": {},
     "output_type": "execute_result"
    }
   ],
   "source": [
    "df.duplicated().sum()"
   ]
  },
  {
   "cell_type": "markdown",
   "id": "b8edd7fe",
   "metadata": {},
   "source": [
    "### Print some of the text along with its author"
   ]
  },
  {
   "cell_type": "code",
   "execution_count": 16,
   "id": "e89b4da3",
   "metadata": {},
   "outputs": [
    {
     "name": "stdout",
     "output_type": "stream",
     "text": [
      "This process, however, afforded me no means of ascertaining the dimensions of my dungeon; as I might make its circuit, and return to the point whence I set out, without being aware of the fact; so perfectly uniform seemed the wall.\n",
      "\n",
      "It never once occurred to me that the fumbling might be a mere mistake.\n",
      "\n",
      "In his left hand was a gold snuff box, from which, as he capered down the hill, cutting all manner of fantastic steps, he took snuff incessantly with an air of the greatest possible self satisfaction.\n",
      "\n",
      "How lovely is spring As we looked from Windsor Terrace on the sixteen fertile counties spread beneath, speckled by happy cottages and wealthier towns, all looked as in former years, heart cheering and fair.\n",
      "\n",
      "Finding nothing else, not even gold, the Superintendent abandoned his attempts; but a perplexed look occasionally steals over his countenance as he sits thinking at his desk.\n",
      "\n"
     ]
    }
   ],
   "source": [
    "for i in range(5):\n",
    "    print(df['text'][i])\n",
    "    print()"
   ]
  },
  {
   "cell_type": "markdown",
   "id": "f15928e1",
   "metadata": {},
   "source": [
    "### Create a function to preproces the text"
   ]
  },
  {
   "cell_type": "code",
   "execution_count": 19,
   "id": "1fd6274e",
   "metadata": {},
   "outputs": [],
   "source": [
    "def preprocess(text):\n",
    "    text=re.sub(r'[^a-zA-Z0-9]',' ',text).split()\n",
    "    words=[i.lower() for i in text]\n",
    "    lemma=WordNetLemmatizer()\n",
    "    word=[lemma.lemmatize(i,'v') for i in words]\n",
    "    return ' '.join(word)"
   ]
  },
  {
   "cell_type": "code",
   "execution_count": 20,
   "id": "9d9ef6a6",
   "metadata": {},
   "outputs": [],
   "source": [
    "df['text']=df['text'].apply(preprocess)"
   ]
  },
  {
   "cell_type": "markdown",
   "id": "b97a5bef",
   "metadata": {},
   "source": [
    "### Print some of the text after preprocess"
   ]
  },
  {
   "cell_type": "code",
   "execution_count": 21,
   "id": "ffd3c4c8",
   "metadata": {},
   "outputs": [
    {
     "name": "stdout",
     "output_type": "stream",
     "text": [
      "this process however afford me no mean of ascertain the dimension of my dungeon as i might make its circuit and return to the point whence i set out without be aware of the fact so perfectly uniform seem the wall\n",
      "\n",
      "it never once occur to me that the fumble might be a mere mistake\n",
      "\n",
      "in his leave hand be a gold snuff box from which as he caper down the hill cut all manner of fantastic step he take snuff incessantly with an air of the greatest possible self satisfaction\n",
      "\n",
      "how lovely be spring as we look from windsor terrace on the sixteen fertile counties spread beneath speckle by happy cottages and wealthier towns all look as in former years heart cheer and fair\n",
      "\n",
      "find nothing else not even gold the superintendent abandon his attempt but a perplex look occasionally steal over his countenance as he sit think at his desk\n",
      "\n"
     ]
    }
   ],
   "source": [
    "for i in range(5):\n",
    "    print(df['text'][i])\n",
    "    print()"
   ]
  },
  {
   "cell_type": "markdown",
   "id": "fcf2c9b4",
   "metadata": {},
   "source": [
    "### Check for imbalance in the dataset"
   ]
  },
  {
   "cell_type": "code",
   "execution_count": 22,
   "id": "e4713150",
   "metadata": {},
   "outputs": [
    {
     "data": {
      "text/plain": [
       "<Axes: xlabel='count', ylabel='author'>"
      ]
     },
     "execution_count": 22,
     "metadata": {},
     "output_type": "execute_result"
    },
    {
     "data": {
      "image/png": "[encoded data removed]",
      "text/plain": [
       "<Figure size 640x480 with 1 Axes>"
      ]
     },
     "metadata": {},
     "output_type": "display_data"
    }
   ],
   "source": [
    "sns.countplot(y=df['author'])"
   ]
  },
  {
   "cell_type": "code",
   "execution_count": 25,
   "id": "1b082fe6",
   "metadata": {},
   "outputs": [],
   "source": [
    "count=df['author'].value_counts()"
   ]
  },
  {
   "cell_type": "code",
   "execution_count": 34,
   "id": "9dfb2801",
   "metadata": {},
   "outputs": [
    {
     "data": {
      "image/png": "[encoded data removed]",
      "text/plain": [
       "<Figure size 640x480 with 1 Axes>"
      ]
     },
     "metadata": {},
     "output_type": "display_data"
    }
   ],
   "source": [
    "plt.pie(count,labels=count.index ,autopct='%1.1f%%' , colors=['violet','gray','yellow'])\n",
    "plt.show()"
   ]
  },
  {
   "cell_type": "markdown",
   "id": "947216be",
   "metadata": {},
   "source": [
    "### Split the dataset into Input & Target Variables"
   ]
  },
  {
   "cell_type": "code",
   "execution_count": 69,
   "id": "b0b8e053",
   "metadata": {},
   "outputs": [],
   "source": [
    "x=df['text']\n",
    "y=df['author']"
   ]
  },
  {
   "cell_type": "markdown",
   "id": "0a878bb4",
   "metadata": {},
   "source": [
    "### Label Encode our target variables"
   ]
  },
  {
   "cell_type": "code",
   "execution_count": 70,
   "id": "84e02289",
   "metadata": {},
   "outputs": [],
   "source": [
    "encoder=LabelBinarizer()"
   ]
  },
  {
   "cell_type": "code",
   "execution_count": 71,
   "id": "7963058c",
   "metadata": {},
   "outputs": [],
   "source": [
    "y=encoder.fit_transform(y)"
   ]
  },
  {
   "cell_type": "markdown",
   "id": "877d7883",
   "metadata": {},
   "source": [
    "### Split the dataset into Training & Testing set"
   ]
  },
  {
   "cell_type": "code",
   "execution_count": 72,
   "id": "17a141e9",
   "metadata": {},
   "outputs": [],
   "source": [
    "X_train,X_test,y_train,y_test=train_test_split(x,y,train_size=.25,random_state=100)"
   ]
  },
  {
   "cell_type": "markdown",
   "id": "fdec3f7c",
   "metadata": {},
   "source": [
    "### Create Keras tokenizer object with 5000 max words\n",
    "* Convert text to sequence\n",
    "* Add padding"
   ]
  },
  {
   "cell_type": "code",
   "execution_count": 73,
   "id": "cef81ba4",
   "metadata": {},
   "outputs": [],
   "source": [
    "tokenizer=Tokenizer(num_words=5000)"
   ]
  },
  {
   "cell_type": "code",
   "execution_count": 74,
   "id": "6953381b",
   "metadata": {},
   "outputs": [],
   "source": [
    "tokenizer.fit_on_texts(x)"
   ]
  },
  {
   "cell_type": "code",
   "execution_count": 75,
   "id": "dcce8e0c",
   "metadata": {},
   "outputs": [],
   "source": [
    "vocab=len(tokenzier.word_index)+1"
   ]
  },
  {
   "cell_type": "code",
   "execution_count": 76,
   "id": "7f67f8bb",
   "metadata": {},
   "outputs": [],
   "source": [
    "def padding(txt):\n",
    "    tokenize=tokenizer.texts_to_sequences(txt)\n",
    "    padding=pad_sequences(tokenize,maxlen=128)\n",
    "    return padding"
   ]
  },
  {
   "cell_type": "code",
   "execution_count": 77,
   "id": "44d1398f",
   "metadata": {},
   "outputs": [],
   "source": [
    "X_train=padding(X_train)\n",
    "X_test=padding(X_test)"
   ]
  },
  {
   "cell_type": "markdown",
   "id": "11d2e388",
   "metadata": {},
   "source": [
    "### Create keras Sequential model with GRU layers"
   ]
  },
  {
   "cell_type": "code",
   "execution_count": 78,
   "id": "040b7b8d",
   "metadata": {},
   "outputs": [],
   "source": [
    "import keras"
   ]
  },
  {
   "cell_type": "code",
   "execution_count": 81,
   "id": "619fa950",
   "metadata": {},
   "outputs": [],
   "source": [
    "model=Sequential([\n",
    "    keras.layers.Embedding(vocab, 128),\n",
    "    keras.layers.GRU(128,return_sequences=True),\n",
    "    keras.layers.Dropout(0.2),\n",
    "    keras.layers.GRU(128),\n",
    "    keras.layers.Dropout(0.2),\n",
    "    keras.layers.Dense(3,activation='sigmoid')\n",
    "])"
   ]
  },
  {
   "cell_type": "code",
   "execution_count": 82,
   "id": "f5ed052b",
   "metadata": {},
   "outputs": [
    {
     "name": "stdout",
     "output_type": "stream",
     "text": [
      "Model: \"sequential\"\n",
      "_________________________________________________________________\n",
      " Layer (type)                Output Shape              Param #   \n",
      "=================================================================\n",
      " embedding (Embedding)       (None, None, 128)         2509056   \n",
      "                                                                 \n",
      " gru (GRU)                   (None, None, 128)         99072     \n",
      "                                                                 \n",
      " dropout (Dropout)           (None, None, 128)         0         \n",
      "                                                                 \n",
      " gru_1 (GRU)                 (None, 128)               99072     \n",
      "                                                                 \n",
      " dropout_1 (Dropout)         (None, 128)               0         \n",
      "                                                                 \n",
      " dense (Dense)               (None, 3)                 387       \n",
      "                                                                 \n",
      "=================================================================\n",
      "Total params: 2707587 (10.33 MB)\n",
      "Trainable params: 2707587 (10.33 MB)\n",
      "Non-trainable params: 0 (0.00 Byte)\n",
      "_________________________________________________________________\n"
     ]
    }
   ],
   "source": [
    "model.summary()"
   ]
  },
  {
   "cell_type": "markdown",
   "id": "4cd30def",
   "metadata": {},
   "source": [
    "### Compile the model"
   ]
  },
  {
   "cell_type": "code",
   "execution_count": null,
   "id": "b92d6ab6",
   "metadata": {},
   "outputs": [],
   "source": [
    "model.compile(loss = 'categorical_crossentropy', optimizer = 'adam', metrics = ['accuracy'])"
   ]
  },
  {
   "cell_type": "code",
   "execution_count": 83,
   "id": "b633bb85",
   "metadata": {},
   "outputs": [],
   "source": [
    "model.compile(loss= 'categorical_crossentropy', optimizer='adam' , metrics=['accuracy'])"
   ]
  },
  {
   "cell_type": "markdown",
   "id": "4518b6ba",
   "metadata": {},
   "source": [
    "### Train the model"
   ]
  },
  {
   "cell_type": "code",
   "execution_count": 84,
   "id": "c98848ef",
   "metadata": {},
   "outputs": [
    {
     "name": "stdout",
     "output_type": "stream",
     "text": [
      "Epoch 1/10\n",
      "123/123 [==============================] - 53s 360ms/step - loss: 0.9337 - accuracy: 0.5430 - val_loss: 0.7016 - val_accuracy: 0.6997\n",
      "Epoch 2/10\n",
      "123/123 [==============================] - 32s 258ms/step - loss: 0.4630 - accuracy: 0.8204 - val_loss: 0.6202 - val_accuracy: 0.7273\n",
      "Epoch 3/10\n",
      "123/123 [==============================] - 33s 268ms/step - loss: 0.2275 - accuracy: 0.9134 - val_loss: 0.8181 - val_accuracy: 0.6905\n",
      "Epoch 4/10\n",
      "123/123 [==============================] - 34s 273ms/step - loss: 0.1437 - accuracy: 0.9517 - val_loss: 1.0370 - val_accuracy: 0.7058\n",
      "Epoch 5/10\n",
      "123/123 [==============================] - 33s 272ms/step - loss: 0.0745 - accuracy: 0.9724 - val_loss: 1.2168 - val_accuracy: 0.6864\n",
      "Epoch 6/10\n",
      "123/123 [==============================] - 33s 269ms/step - loss: 0.0615 - accuracy: 0.9788 - val_loss: 1.2667 - val_accuracy: 0.7252\n",
      "Epoch 7/10\n",
      "123/123 [==============================] - 33s 270ms/step - loss: 0.0433 - accuracy: 0.9867 - val_loss: 1.4108 - val_accuracy: 0.7089\n",
      "Epoch 8/10\n",
      "123/123 [==============================] - 33s 270ms/step - loss: 0.0308 - accuracy: 0.9903 - val_loss: 1.5754 - val_accuracy: 0.7058\n",
      "Epoch 9/10\n",
      "123/123 [==============================] - 33s 268ms/step - loss: 0.0110 - accuracy: 0.9962 - val_loss: 1.7844 - val_accuracy: 0.7048\n",
      "Epoch 10/10\n",
      "123/123 [==============================] - 33s 268ms/step - loss: 0.0109 - accuracy: 0.9969 - val_loss: 1.8407 - val_accuracy: 0.6885\n"
     ]
    },
    {
     "data": {
      "text/plain": [
       "<keras.src.callbacks.History at 0x1c318b9d7b0>"
      ]
     },
     "execution_count": 84,
     "metadata": {},
     "output_type": "execute_result"
    }
   ],
   "source": [
    "model.fit(X_train,y_train ,epochs=10 ,validation_split=0.2)"
   ]
  },
  {
   "cell_type": "markdown",
   "id": "105de566",
   "metadata": {},
   "source": [
    "### Make predictions with X_test"
   ]
  },
  {
   "cell_type": "code",
   "execution_count": 85,
   "id": "5a5577d7",
   "metadata": {},
   "outputs": [
    {
     "name": "stdout",
     "output_type": "stream",
     "text": [
      "459/459 [==============================] - 22s 46ms/step\n"
     ]
    }
   ],
   "source": [
    "prediction=model.predict(X_test)"
   ]
  },
  {
   "cell_type": "markdown",
   "id": "beecac60",
   "metadata": {},
   "source": [
    "### Fetch the index of the higher probable prediction"
   ]
  },
  {
   "cell_type": "code",
   "execution_count": 87,
   "id": "0324e9a7",
   "metadata": {},
   "outputs": [],
   "source": [
    "y_pred=[np.argmax(i) for i in prediction]"
   ]
  },
  {
   "cell_type": "code",
   "execution_count": null,
   "id": "55fd22f4",
   "metadata": {},
   "outputs": [],
   "source": [
    "y_test=[np.argmax(i) for i in y_test]"
   ]
  },
  {
   "cell_type": "markdown",
   "id": "7f28fbe9",
   "metadata": {},
   "source": [
    "### Evaluate the model"
   ]
  },
  {
   "cell_type": "code",
   "execution_count": 89,
   "id": "d616cccf",
   "metadata": {},
   "outputs": [
    {
     "name": "stdout",
     "output_type": "stream",
     "text": [
      "153/153 [==============================] - 8s 49ms/step - loss: 0.3739 - accuracy: 0.9367\n"
     ]
    },
    {
     "data": {
      "text/plain": [
       "[0.37391215562820435, 0.9366571307182312]"
      ]
     },
     "execution_count": 89,
     "metadata": {},
     "output_type": "execute_result"
    }
   ],
   "source": [
    "model.evaluate(X_train,y_train)"
   ]
  },
  {
   "cell_type": "markdown",
   "id": "cef4dce8",
   "metadata": {},
   "source": [
    "#### Accuracy score"
   ]
  },
  {
   "cell_type": "code",
   "execution_count": 98,
   "id": "4a2ea02e",
   "metadata": {},
   "outputs": [
    {
     "data": {
      "text/plain": [
       "0.7072522982635342"
      ]
     },
     "execution_count": 98,
     "metadata": {},
     "output_type": "execute_result"
    }
   ],
   "source": [
    "accuracy_score(y_test,y_pred)"
   ]
  },
  {
   "cell_type": "markdown",
   "id": "3081c7e1",
   "metadata": {},
   "source": [
    "#### Confusion matrix"
   ]
  },
  {
   "cell_type": "code",
   "execution_count": 99,
   "id": "1cd6a8f3",
   "metadata": {},
   "outputs": [
    {
     "data": {
      "text/plain": [
       "<Axes: >"
      ]
     },
     "execution_count": 99,
     "metadata": {},
     "output_type": "execute_result"
    },
    {
     "data": {
      "image/png": "[encoded data removed]",
      "text/plain": [
       "<Figure size 640x480 with 2 Axes>"
      ]
     },
     "metadata": {},
     "output_type": "display_data"
    }
   ],
   "source": [
    "sns.heatmap(confusion_matrix(y_test, y_pred), annot=True ,fmt='d')"
   ]
  },
  {
   "cell_type": "markdown",
   "id": "b3d8877e",
   "metadata": {},
   "source": [
    "#### Classification Report"
   ]
  },
  {
   "cell_type": "code",
   "execution_count": 100,
   "id": "ed6b7c1f",
   "metadata": {},
   "outputs": [
    {
     "name": "stdout",
     "output_type": "stream",
     "text": [
      "              precision    recall  f1-score   support\n",
      "\n",
      "           0       0.75      0.67      0.71      5913\n",
      "           1       0.69      0.72      0.70      4266\n",
      "           2       0.68      0.74      0.71      4506\n",
      "\n",
      "    accuracy                           0.71     14685\n",
      "   macro avg       0.71      0.71      0.71     14685\n",
      "weighted avg       0.71      0.71      0.71     14685\n",
      "\n"
     ]
    }
   ],
   "source": [
    "print(classification_report(y_test,y_pred))"
   ]
  },
  {
   "cell_type": "markdown",
   "id": "f16c6121",
   "metadata": {},
   "source": [
    "### Email:shamilmskeeri@gmail.com"
   ]
  },
  {
   "cell_type": "markdown",
   "id": "5dcb2e61",
   "metadata": {},
   "source": [
    "***"
   ]
  }
 ],
 "metadata": {
  "kernelspec": {
   "display_name": "Python 3 (ipykernel)",
   "language": "python",
   "name": "python3"
  },
  "language_info": {
   "codemirror_mode": {
    "name": "ipython",
    "version": 3
   },
   "file_extension": ".py",
   "mimetype": "text/x-python",
   "name": "python",
   "nbconvert_exporter": "python",
   "pygments_lexer": "ipython3",
   "version": "3.10.9"
  }
 },
 "nbformat": 4,
 "nbformat_minor": 5
}
